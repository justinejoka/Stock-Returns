{
 "cells": [
  {
   "cell_type": "code",
   "execution_count": 1,
   "id": "3b85cac1",
   "metadata": {
    "execution": {
     "iopub.execute_input": "2024-03-20T08:18:20.980419Z",
     "iopub.status.busy": "2024-03-20T08:18:20.979267Z",
     "iopub.status.idle": "2024-03-20T08:19:03.344063Z",
     "shell.execute_reply": "2024-03-20T08:19:03.342880Z"
    },
    "papermill": {
     "duration": 42.38329,
     "end_time": "2024-03-20T08:19:03.346985",
     "exception": false,
     "start_time": "2024-03-20T08:18:20.963695",
     "status": "completed"
    },
    "tags": []
   },
   "outputs": [
    {
     "name": "stdout",
     "output_type": "stream",
     "text": [
      "Collecting yfinance\r\n",
      "  Downloading yfinance-0.2.37-py2.py3-none-any.whl.metadata (11 kB)\r\n",
      "Requirement already satisfied: pandas>=1.3.0 in /opt/conda/lib/python3.10/site-packages (from yfinance) (2.2.0)\r\n",
      "Requirement already satisfied: numpy>=1.16.5 in /opt/conda/lib/python3.10/site-packages (from yfinance) (1.26.4)\r\n",
      "Requirement already satisfied: requests>=2.31 in /opt/conda/lib/python3.10/site-packages (from yfinance) (2.31.0)\r\n",
      "Collecting multitasking>=0.0.7 (from yfinance)\r\n",
      "  Downloading multitasking-0.0.11-py3-none-any.whl.metadata (5.5 kB)\r\n",
      "Requirement already satisfied: lxml>=4.9.1 in /opt/conda/lib/python3.10/site-packages (from yfinance) (5.1.0)\r\n",
      "Requirement already satisfied: appdirs>=1.4.4 in /opt/conda/lib/python3.10/site-packages (from yfinance) (1.4.4)\r\n",
      "Requirement already satisfied: pytz>=2022.5 in /opt/conda/lib/python3.10/site-packages (from yfinance) (2023.3.post1)\r\n",
      "Requirement already satisfied: frozendict>=2.3.4 in /opt/conda/lib/python3.10/site-packages (from yfinance) (2.4.0)\r\n",
      "Collecting peewee>=3.16.2 (from yfinance)\r\n",
      "  Downloading peewee-3.17.1.tar.gz (3.0 MB)\r\n",
      "\u001b[2K     \u001b[90m━━━━━━━━━━━━━━━━━━━━━━━━━━━━━━━━━━━━━━━━\u001b[0m \u001b[32m3.0/3.0 MB\u001b[0m \u001b[31m11.2 MB/s\u001b[0m eta \u001b[36m0:00:00\u001b[0m\r\n",
      "\u001b[?25h  Installing build dependencies ... \u001b[?25l-\b \b\\\b \b|\b \b/\b \b-\b \b\\\b \b|\b \bdone\r\n",
      "\u001b[?25h  Getting requirements to build wheel ... \u001b[?25l-\b \bdone\r\n",
      "\u001b[?25h  Preparing metadata (pyproject.toml) ... \u001b[?25l-\b \bdone\r\n",
      "\u001b[?25hRequirement already satisfied: beautifulsoup4>=4.11.1 in /opt/conda/lib/python3.10/site-packages (from yfinance) (4.12.2)\r\n",
      "Requirement already satisfied: html5lib>=1.1 in /opt/conda/lib/python3.10/site-packages (from yfinance) (1.1)\r\n",
      "Requirement already satisfied: soupsieve>1.2 in /opt/conda/lib/python3.10/site-packages (from beautifulsoup4>=4.11.1->yfinance) (2.5)\r\n",
      "Requirement already satisfied: six>=1.9 in /opt/conda/lib/python3.10/site-packages (from html5lib>=1.1->yfinance) (1.16.0)\r\n",
      "Requirement already satisfied: webencodings in /opt/conda/lib/python3.10/site-packages (from html5lib>=1.1->yfinance) (0.5.1)\r\n",
      "Requirement already satisfied: python-dateutil>=2.8.2 in /opt/conda/lib/python3.10/site-packages (from pandas>=1.3.0->yfinance) (2.8.2)\r\n",
      "Requirement already satisfied: tzdata>=2022.7 in /opt/conda/lib/python3.10/site-packages (from pandas>=1.3.0->yfinance) (2023.4)\r\n",
      "Requirement already satisfied: charset-normalizer<4,>=2 in /opt/conda/lib/python3.10/site-packages (from requests>=2.31->yfinance) (3.3.2)\r\n",
      "Requirement already satisfied: idna<4,>=2.5 in /opt/conda/lib/python3.10/site-packages (from requests>=2.31->yfinance) (3.6)\r\n",
      "Requirement already satisfied: urllib3<3,>=1.21.1 in /opt/conda/lib/python3.10/site-packages (from requests>=2.31->yfinance) (1.26.18)\r\n",
      "Requirement already satisfied: certifi>=2017.4.17 in /opt/conda/lib/python3.10/site-packages (from requests>=2.31->yfinance) (2024.2.2)\r\n",
      "Downloading yfinance-0.2.37-py2.py3-none-any.whl (72 kB)\r\n",
      "\u001b[2K   \u001b[90m━━━━━━━━━━━━━━━━━━━━━━━━━━━━━━━━━━━━━━━━\u001b[0m \u001b[32m73.0/73.0 kB\u001b[0m \u001b[31m3.7 MB/s\u001b[0m eta \u001b[36m0:00:00\u001b[0m\r\n",
      "\u001b[?25hDownloading multitasking-0.0.11-py3-none-any.whl (8.5 kB)\r\n",
      "Building wheels for collected packages: peewee\r\n",
      "  Building wheel for peewee (pyproject.toml) ... \u001b[?25l-\b \b\\\b \b|\b \b/\b \bdone\r\n",
      "\u001b[?25h  Created wheel for peewee: filename=peewee-3.17.1-cp310-cp310-linux_x86_64.whl size=291653 sha256=dab4cabbf90d51211d209b687051e4cc4bbb8febb431b8c2594a06c6169beb7b\r\n",
      "  Stored in directory: /root/.cache/pip/wheels/d7/35/5c/1374782be033462df5f40174d8d879519d64ed8c25a1977554\r\n",
      "Successfully built peewee\r\n",
      "Installing collected packages: peewee, multitasking, yfinance\r\n",
      "Successfully installed multitasking-0.0.11 peewee-3.17.1 yfinance-0.2.37\r\n",
      "Note: you may need to restart the kernel to use updated packages.\n"
     ]
    }
   ],
   "source": [
    "pip install yfinance"
   ]
  },
  {
   "cell_type": "code",
   "execution_count": 2,
   "id": "43388288",
   "metadata": {
    "execution": {
     "iopub.execute_input": "2024-03-20T08:19:03.383096Z",
     "iopub.status.busy": "2024-03-20T08:19:03.382683Z",
     "iopub.status.idle": "2024-03-20T08:19:07.798718Z",
     "shell.execute_reply": "2024-03-20T08:19:07.797569Z"
    },
    "papermill": {
     "duration": 4.437289,
     "end_time": "2024-03-20T08:19:07.801503",
     "exception": false,
     "start_time": "2024-03-20T08:19:03.364214",
     "status": "completed"
    },
    "tags": []
   },
   "outputs": [],
   "source": [
    "import pandas as pd\n",
    "import numpy as np\n",
    "import yfinance as yf\n",
    "import statsmodels.api as sm"
   ]
  },
  {
   "cell_type": "code",
   "execution_count": 3,
   "id": "b7c4045a",
   "metadata": {
    "execution": {
     "iopub.execute_input": "2024-03-20T08:19:07.839720Z",
     "iopub.status.busy": "2024-03-20T08:19:07.839082Z",
     "iopub.status.idle": "2024-03-20T08:19:07.876063Z",
     "shell.execute_reply": "2024-03-20T08:19:07.874872Z"
    },
    "papermill": {
     "duration": 0.058948,
     "end_time": "2024-03-20T08:19:07.878477",
     "exception": false,
     "start_time": "2024-03-20T08:19:07.819529",
     "status": "completed"
    },
    "tags": []
   },
   "outputs": [],
   "source": [
    "raw_data_1 = pd.read_csv('/kaggle/input/stock-returns/DGS3MO (2).csv')\n",
    "raw_data_2 = pd.read_csv('/kaggle/input/stock-returns/DGS3MO (3).csv')\n",
    "raw_data_3 = pd.read_csv('/kaggle/input/stock-returns/TSLA (1).csv')\n",
    "raw_data_4 = pd.read_csv('/kaggle/input/stock-returns/TSLA 3 months historical data (1).csv')\n"
   ]
  },
  {
   "cell_type": "markdown",
   "id": "4b6d9b01",
   "metadata": {
    "papermill": {
     "duration": 0.016436,
     "end_time": "2024-03-20T08:19:07.912149",
     "exception": false,
     "start_time": "2024-03-20T08:19:07.895713",
     "status": "completed"
    },
    "tags": []
   },
   "source": [
    "### Check The Structure of Each Dataset"
   ]
  },
  {
   "cell_type": "code",
   "execution_count": 4,
   "id": "6a19e94b",
   "metadata": {
    "execution": {
     "iopub.execute_input": "2024-03-20T08:19:07.948517Z",
     "iopub.status.busy": "2024-03-20T08:19:07.947291Z",
     "iopub.status.idle": "2024-03-20T08:19:07.970926Z",
     "shell.execute_reply": "2024-03-20T08:19:07.969829Z"
    },
    "papermill": {
     "duration": 0.044598,
     "end_time": "2024-03-20T08:19:07.973545",
     "exception": false,
     "start_time": "2024-03-20T08:19:07.928947",
     "status": "completed"
    },
    "tags": []
   },
   "outputs": [
    {
     "name": "stdout",
     "output_type": "stream",
     "text": [
      "DGS3MO (2) Dataset:\n",
      "        DATE DGS3MO\n",
      "0  3/14/2019   2.45\n",
      "1  3/15/2019   2.45\n",
      "2  3/18/2019   2.44\n",
      "3  3/19/2019   2.46\n",
      "4  3/20/2019   2.48\n",
      "\n",
      "DGS3MO (3) Dataset:\n",
      "        DATE DGS3MO\n",
      "0  3/14/2019   2.45\n",
      "1  3/15/2019   2.45\n",
      "2  3/18/2019   2.44\n",
      "3  3/19/2019   2.46\n",
      "4  3/20/2019   2.48\n",
      "\n",
      "TSLA (1) Dataset:\n",
      "        Date        Open        High         Low       Close   Adj Close  \\\n",
      "0  3/17/2023  184.520004  186.220001  177.330002  180.130005  180.130005   \n",
      "1  3/20/2023  178.080002  186.440002  176.350006  183.250000  183.250000   \n",
      "2  3/21/2023  188.279999  198.000000  188.039993  197.580002  197.580002   \n",
      "3  3/22/2023  199.300003  200.660004  190.949997  191.149994  191.149994   \n",
      "4  3/23/2023  195.259995  199.309998  188.649994  192.220001  192.220001   \n",
      "\n",
      "      Volume  \n",
      "0  133197100  \n",
      "1  129684400  \n",
      "2  153391400  \n",
      "3  150376400  \n",
      "4  144193900  \n",
      "\n",
      "TSLA 3 Months Historical Data Dataset:\n",
      "        Date        Open        High         Low       Close   Adj Close  \\\n",
      "0  9/18/2023  271.160004  271.440002  263.760010  265.279999  265.279999   \n",
      "1  9/19/2023  264.350006  267.850006  261.200012  266.500000  266.500000   \n",
      "2  9/20/2023  267.040009  273.929993  262.459991  262.589996  262.589996   \n",
      "3  9/21/2023  257.850006  260.859985  254.210007  255.699997  255.699997   \n",
      "4  9/22/2023  257.399994  257.790009  244.479996  244.880005  244.880005   \n",
      "\n",
      "      Volume  \n",
      "0  101543300  \n",
      "1  103704000  \n",
      "2  122514600  \n",
      "3  119531000  \n",
      "4  127524100  \n"
     ]
    }
   ],
   "source": [
    "print(\"DGS3MO (2) Dataset:\")\n",
    "print(raw_data_1.head())\n",
    "print(\"\\nDGS3MO (3) Dataset:\")\n",
    "print(raw_data_2.head())\n",
    "print(\"\\nTSLA (1) Dataset:\")\n",
    "print(raw_data_3.head())\n",
    "print(\"\\nTSLA 3 Months Historical Data Dataset:\")\n",
    "print(raw_data_4.head())"
   ]
  },
  {
   "cell_type": "markdown",
   "id": "83070cf3",
   "metadata": {
    "papermill": {
     "duration": 0.016926,
     "end_time": "2024-03-20T08:19:08.008017",
     "exception": false,
     "start_time": "2024-03-20T08:19:07.991091",
     "status": "completed"
    },
    "tags": []
   },
   "source": [
    "### Data Preparation"
   ]
  },
  {
   "cell_type": "markdown",
   "id": "16928e1e",
   "metadata": {
    "papermill": {
     "duration": 0.016846,
     "end_time": "2024-03-20T08:19:08.042222",
     "exception": false,
     "start_time": "2024-03-20T08:19:08.025376",
     "status": "completed"
    },
    "tags": []
   },
   "source": [
    "#### Convert date columns to datetime format"
   ]
  },
  {
   "cell_type": "code",
   "execution_count": 5,
   "id": "628c77a2",
   "metadata": {
    "execution": {
     "iopub.execute_input": "2024-03-20T08:19:08.079243Z",
     "iopub.status.busy": "2024-03-20T08:19:08.078448Z",
     "iopub.status.idle": "2024-03-20T08:19:08.119048Z",
     "shell.execute_reply": "2024-03-20T08:19:08.117459Z"
    },
    "papermill": {
     "duration": 0.06301,
     "end_time": "2024-03-20T08:19:08.122929",
     "exception": false,
     "start_time": "2024-03-20T08:19:08.059919",
     "status": "completed"
    },
    "tags": []
   },
   "outputs": [],
   "source": [
    "raw_data_1['DATE'] = pd.to_datetime(raw_data_1['DATE'])\n",
    "raw_data_2['DATE'] = pd.to_datetime(raw_data_2['DATE'])\n",
    "raw_data_3['Date'] = pd.to_datetime(raw_data_3['Date'])\n",
    "raw_data_4['Date'] = pd.to_datetime(raw_data_4['Date'])"
   ]
  },
  {
   "cell_type": "markdown",
   "id": "47824365",
   "metadata": {
    "papermill": {
     "duration": 0.01694,
     "end_time": "2024-03-20T08:19:08.158214",
     "exception": false,
     "start_time": "2024-03-20T08:19:08.141274",
     "status": "completed"
    },
    "tags": []
   },
   "source": [
    "#### Set date columns as index"
   ]
  },
  {
   "cell_type": "code",
   "execution_count": 6,
   "id": "d01b99b7",
   "metadata": {
    "execution": {
     "iopub.execute_input": "2024-03-20T08:19:08.194811Z",
     "iopub.status.busy": "2024-03-20T08:19:08.193862Z",
     "iopub.status.idle": "2024-03-20T08:19:08.205717Z",
     "shell.execute_reply": "2024-03-20T08:19:08.204701Z"
    },
    "papermill": {
     "duration": 0.032586,
     "end_time": "2024-03-20T08:19:08.207994",
     "exception": false,
     "start_time": "2024-03-20T08:19:08.175408",
     "status": "completed"
    },
    "tags": []
   },
   "outputs": [],
   "source": [
    "raw_data_1.set_index('DATE', inplace=True)\n",
    "raw_data_2.set_index('DATE', inplace=True)\n",
    "raw_data_3.set_index('Date', inplace=True)\n",
    "raw_data_4.set_index('Date', inplace=True)"
   ]
  },
  {
   "cell_type": "markdown",
   "id": "187a04c5",
   "metadata": {
    "papermill": {
     "duration": 0.016864,
     "end_time": "2024-03-20T08:19:08.242105",
     "exception": false,
     "start_time": "2024-03-20T08:19:08.225241",
     "status": "completed"
    },
    "tags": []
   },
   "source": [
    "#### Check the data types and index of each dataset"
   ]
  },
  {
   "cell_type": "code",
   "execution_count": 7,
   "id": "ec91a1cd",
   "metadata": {
    "execution": {
     "iopub.execute_input": "2024-03-20T08:19:08.278220Z",
     "iopub.status.busy": "2024-03-20T08:19:08.277541Z",
     "iopub.status.idle": "2024-03-20T08:19:08.314699Z",
     "shell.execute_reply": "2024-03-20T08:19:08.313468Z"
    },
    "papermill": {
     "duration": 0.058494,
     "end_time": "2024-03-20T08:19:08.317526",
     "exception": false,
     "start_time": "2024-03-20T08:19:08.259032",
     "status": "completed"
    },
    "tags": []
   },
   "outputs": [
    {
     "name": "stdout",
     "output_type": "stream",
     "text": [
      "DGS3MO (2) Dataset:\n",
      "<class 'pandas.core.frame.DataFrame'>\n",
      "DatetimeIndex: 1306 entries, 2019-03-14 to 2024-03-14\n",
      "Data columns (total 1 columns):\n",
      " #   Column  Non-Null Count  Dtype \n",
      "---  ------  --------------  ----- \n",
      " 0   DGS3MO  1306 non-null   object\n",
      "dtypes: object(1)\n",
      "memory usage: 20.4+ KB\n",
      "None\n",
      "\n",
      "DGS3MO (3) Dataset:\n",
      "<class 'pandas.core.frame.DataFrame'>\n",
      "DatetimeIndex: 1306 entries, 2019-03-14 to 2024-03-14\n",
      "Data columns (total 1 columns):\n",
      " #   Column  Non-Null Count  Dtype \n",
      "---  ------  --------------  ----- \n",
      " 0   DGS3MO  1306 non-null   object\n",
      "dtypes: object(1)\n",
      "memory usage: 20.4+ KB\n",
      "None\n",
      "\n",
      "TSLA (1) Dataset:\n",
      "<class 'pandas.core.frame.DataFrame'>\n",
      "DatetimeIndex: 251 entries, 2023-03-17 to 2024-03-15\n",
      "Data columns (total 6 columns):\n",
      " #   Column     Non-Null Count  Dtype  \n",
      "---  ------     --------------  -----  \n",
      " 0   Open       251 non-null    float64\n",
      " 1   High       251 non-null    float64\n",
      " 2   Low        251 non-null    float64\n",
      " 3   Close      251 non-null    float64\n",
      " 4   Adj Close  251 non-null    float64\n",
      " 5   Volume     251 non-null    int64  \n",
      "dtypes: float64(5), int64(1)\n",
      "memory usage: 13.7 KB\n",
      "None\n",
      "\n",
      "TSLA 3 Months Historical Data Dataset:\n",
      "<class 'pandas.core.frame.DataFrame'>\n",
      "DatetimeIndex: 125 entries, 2023-09-18 to 2024-03-15\n",
      "Data columns (total 6 columns):\n",
      " #   Column     Non-Null Count  Dtype  \n",
      "---  ------     --------------  -----  \n",
      " 0   Open       125 non-null    float64\n",
      " 1   High       125 non-null    float64\n",
      " 2   Low        125 non-null    float64\n",
      " 3   Close      125 non-null    float64\n",
      " 4   Adj Close  125 non-null    float64\n",
      " 5   Volume     125 non-null    int64  \n",
      "dtypes: float64(5), int64(1)\n",
      "memory usage: 6.8 KB\n",
      "None\n"
     ]
    }
   ],
   "source": [
    "print(\"DGS3MO (2) Dataset:\")\n",
    "print(raw_data_1.info())\n",
    "print(\"\\nDGS3MO (3) Dataset:\")\n",
    "print(raw_data_2.info())\n",
    "print(\"\\nTSLA (1) Dataset:\")\n",
    "print(raw_data_3.info())\n",
    "print(\"\\nTSLA 3 Months Historical Data Dataset:\")\n",
    "print(raw_data_4.info())"
   ]
  },
  {
   "cell_type": "markdown",
   "id": "58d191d3",
   "metadata": {
    "papermill": {
     "duration": 0.016981,
     "end_time": "2024-03-20T08:19:08.352054",
     "exception": false,
     "start_time": "2024-03-20T08:19:08.335073",
     "status": "completed"
    },
    "tags": []
   },
   "source": [
    "#### Convert 'DGS3MO' column to numeric"
   ]
  },
  {
   "cell_type": "code",
   "execution_count": 8,
   "id": "ffdaba5a",
   "metadata": {
    "execution": {
     "iopub.execute_input": "2024-03-20T08:19:08.388582Z",
     "iopub.status.busy": "2024-03-20T08:19:08.387937Z",
     "iopub.status.idle": "2024-03-20T08:19:08.396128Z",
     "shell.execute_reply": "2024-03-20T08:19:08.395344Z"
    },
    "papermill": {
     "duration": 0.029233,
     "end_time": "2024-03-20T08:19:08.398406",
     "exception": false,
     "start_time": "2024-03-20T08:19:08.369173",
     "status": "completed"
    },
    "tags": []
   },
   "outputs": [],
   "source": [
    "raw_data_1['DGS3MO'] = pd.to_numeric(raw_data_1['DGS3MO'], errors='coerce')\n",
    "raw_data_2['DGS3MO'] = pd.to_numeric(raw_data_2['DGS3MO'], errors='coerce')"
   ]
  },
  {
   "cell_type": "markdown",
   "id": "7a84cd99",
   "metadata": {
    "papermill": {
     "duration": 0.018464,
     "end_time": "2024-03-20T08:19:08.434019",
     "exception": false,
     "start_time": "2024-03-20T08:19:08.415555",
     "status": "completed"
    },
    "tags": []
   },
   "source": [
    "#### Check for missing values"
   ]
  },
  {
   "cell_type": "code",
   "execution_count": 9,
   "id": "f3f9a613",
   "metadata": {
    "execution": {
     "iopub.execute_input": "2024-03-20T08:19:08.469863Z",
     "iopub.status.busy": "2024-03-20T08:19:08.469477Z",
     "iopub.status.idle": "2024-03-20T08:19:08.476124Z",
     "shell.execute_reply": "2024-03-20T08:19:08.475062Z"
    },
    "papermill": {
     "duration": 0.027842,
     "end_time": "2024-03-20T08:19:08.478999",
     "exception": false,
     "start_time": "2024-03-20T08:19:08.451157",
     "status": "completed"
    },
    "tags": []
   },
   "outputs": [
    {
     "name": "stdout",
     "output_type": "stream",
     "text": [
      "Missing values in DGS3MO (2): 53\n",
      "Missing values in DGS3MO (3): 53\n"
     ]
    }
   ],
   "source": [
    "print(\"Missing values in DGS3MO (2):\", raw_data_1['DGS3MO'].isnull().sum())\n",
    "print(\"Missing values in DGS3MO (3):\", raw_data_2['DGS3MO'].isnull().sum())"
   ]
  },
  {
   "cell_type": "markdown",
   "id": "bf958ffd",
   "metadata": {
    "papermill": {
     "duration": 0.016939,
     "end_time": "2024-03-20T08:19:08.513291",
     "exception": false,
     "start_time": "2024-03-20T08:19:08.496352",
     "status": "completed"
    },
    "tags": []
   },
   "source": [
    "#### Fill missing values using linear interpolation"
   ]
  },
  {
   "cell_type": "code",
   "execution_count": 10,
   "id": "3eb26163",
   "metadata": {
    "execution": {
     "iopub.execute_input": "2024-03-20T08:19:08.549513Z",
     "iopub.status.busy": "2024-03-20T08:19:08.549122Z",
     "iopub.status.idle": "2024-03-20T08:19:08.557103Z",
     "shell.execute_reply": "2024-03-20T08:19:08.556131Z"
    },
    "papermill": {
     "duration": 0.028818,
     "end_time": "2024-03-20T08:19:08.559402",
     "exception": false,
     "start_time": "2024-03-20T08:19:08.530584",
     "status": "completed"
    },
    "tags": []
   },
   "outputs": [],
   "source": [
    "raw_data_1['DGS3MO'] = raw_data_1['DGS3MO'].interpolate(method='linear')\n",
    "raw_data_2['DGS3MO'] = raw_data_2['DGS3MO'].interpolate(method='linear')"
   ]
  },
  {
   "cell_type": "markdown",
   "id": "420423e6",
   "metadata": {
    "papermill": {
     "duration": 0.01813,
     "end_time": "2024-03-20T08:19:08.595194",
     "exception": false,
     "start_time": "2024-03-20T08:19:08.577064",
     "status": "completed"
    },
    "tags": []
   },
   "source": [
    "#### Check if missing values are filled"
   ]
  },
  {
   "cell_type": "code",
   "execution_count": 11,
   "id": "4ed7efca",
   "metadata": {
    "execution": {
     "iopub.execute_input": "2024-03-20T08:19:08.631310Z",
     "iopub.status.busy": "2024-03-20T08:19:08.630911Z",
     "iopub.status.idle": "2024-03-20T08:19:08.638016Z",
     "shell.execute_reply": "2024-03-20T08:19:08.636908Z"
    },
    "papermill": {
     "duration": 0.028076,
     "end_time": "2024-03-20T08:19:08.640481",
     "exception": false,
     "start_time": "2024-03-20T08:19:08.612405",
     "status": "completed"
    },
    "tags": []
   },
   "outputs": [
    {
     "name": "stdout",
     "output_type": "stream",
     "text": [
      "Missing values in DGS3MO (2) after filling: 0\n",
      "Missing values in DGS3MO (3) after filling: 0\n"
     ]
    }
   ],
   "source": [
    "print(\"Missing values in DGS3MO (2) after filling:\", raw_data_1['DGS3MO'].isnull().sum())\n",
    "print(\"Missing values in DGS3MO (3) after filling:\", raw_data_2['DGS3MO'].isnull().sum())"
   ]
  },
  {
   "cell_type": "markdown",
   "id": "d006ea5b",
   "metadata": {
    "papermill": {
     "duration": 0.017078,
     "end_time": "2024-03-20T08:19:08.674917",
     "exception": false,
     "start_time": "2024-03-20T08:19:08.657839",
     "status": "completed"
    },
    "tags": []
   },
   "source": [
    "### Merge Datasets"
   ]
  },
  {
   "cell_type": "markdown",
   "id": "bb0469d9",
   "metadata": {
    "papermill": {
     "duration": 0.017438,
     "end_time": "2024-03-20T08:19:08.767930",
     "exception": false,
     "start_time": "2024-03-20T08:19:08.750492",
     "status": "completed"
    },
    "tags": []
   },
   "source": [
    "#### Merge T-Bill yields datasets"
   ]
  },
  {
   "cell_type": "code",
   "execution_count": 12,
   "id": "e70c149a",
   "metadata": {
    "execution": {
     "iopub.execute_input": "2024-03-20T08:19:08.804473Z",
     "iopub.status.busy": "2024-03-20T08:19:08.804084Z",
     "iopub.status.idle": "2024-03-20T08:19:08.809467Z",
     "shell.execute_reply": "2024-03-20T08:19:08.808498Z"
    },
    "papermill": {
     "duration": 0.026228,
     "end_time": "2024-03-20T08:19:08.811588",
     "exception": false,
     "start_time": "2024-03-20T08:19:08.785360",
     "status": "completed"
    },
    "tags": []
   },
   "outputs": [],
   "source": [
    "tbill_yields = pd.concat([raw_data_1, raw_data_2])"
   ]
  },
  {
   "cell_type": "markdown",
   "id": "283a9706",
   "metadata": {
    "papermill": {
     "duration": 0.017159,
     "end_time": "2024-03-20T08:19:08.846922",
     "exception": false,
     "start_time": "2024-03-20T08:19:08.829763",
     "status": "completed"
    },
    "tags": []
   },
   "source": [
    "#### Merge TSLA stock price datasets"
   ]
  },
  {
   "cell_type": "code",
   "execution_count": 13,
   "id": "fd3483e6",
   "metadata": {
    "execution": {
     "iopub.execute_input": "2024-03-20T08:19:08.883473Z",
     "iopub.status.busy": "2024-03-20T08:19:08.883076Z",
     "iopub.status.idle": "2024-03-20T08:19:08.887851Z",
     "shell.execute_reply": "2024-03-20T08:19:08.887047Z"
    },
    "papermill": {
     "duration": 0.025656,
     "end_time": "2024-03-20T08:19:08.890018",
     "exception": false,
     "start_time": "2024-03-20T08:19:08.864362",
     "status": "completed"
    },
    "tags": []
   },
   "outputs": [],
   "source": [
    "tsla_stock = pd.concat([raw_data_3, raw_data_4])"
   ]
  },
  {
   "cell_type": "markdown",
   "id": "bf696b0b",
   "metadata": {
    "papermill": {
     "duration": 0.017291,
     "end_time": "2024-03-20T08:19:08.926099",
     "exception": false,
     "start_time": "2024-03-20T08:19:08.908808",
     "status": "completed"
    },
    "tags": []
   },
   "source": [
    "###  Calculate Returns"
   ]
  },
  {
   "cell_type": "markdown",
   "id": "95e48a31",
   "metadata": {
    "papermill": {
     "duration": 0.017223,
     "end_time": "2024-03-20T08:19:08.960917",
     "exception": false,
     "start_time": "2024-03-20T08:19:08.943694",
     "status": "completed"
    },
    "tags": []
   },
   "source": [
    "#### Calculate daily returns for TSLA stock"
   ]
  },
  {
   "cell_type": "code",
   "execution_count": 14,
   "id": "60666fcc",
   "metadata": {
    "execution": {
     "iopub.execute_input": "2024-03-20T08:19:08.997970Z",
     "iopub.status.busy": "2024-03-20T08:19:08.997555Z",
     "iopub.status.idle": "2024-03-20T08:19:09.007720Z",
     "shell.execute_reply": "2024-03-20T08:19:09.006548Z"
    },
    "papermill": {
     "duration": 0.031019,
     "end_time": "2024-03-20T08:19:09.009933",
     "exception": false,
     "start_time": "2024-03-20T08:19:08.978914",
     "status": "completed"
    },
    "tags": []
   },
   "outputs": [],
   "source": [
    "tsla_stock['Returns'] = tsla_stock['Adj Close'].pct_change()"
   ]
  },
  {
   "cell_type": "markdown",
   "id": "d4ab5252",
   "metadata": {
    "papermill": {
     "duration": 0.017024,
     "end_time": "2024-03-20T08:19:09.044546",
     "exception": false,
     "start_time": "2024-03-20T08:19:09.027522",
     "status": "completed"
    },
    "tags": []
   },
   "source": [
    "#### Drop rows with missing values (first row)"
   ]
  },
  {
   "cell_type": "code",
   "execution_count": 15,
   "id": "a7544903",
   "metadata": {
    "execution": {
     "iopub.execute_input": "2024-03-20T08:19:09.082726Z",
     "iopub.status.busy": "2024-03-20T08:19:09.082349Z",
     "iopub.status.idle": "2024-03-20T08:19:09.089932Z",
     "shell.execute_reply": "2024-03-20T08:19:09.088721Z"
    },
    "papermill": {
     "duration": 0.029892,
     "end_time": "2024-03-20T08:19:09.092123",
     "exception": false,
     "start_time": "2024-03-20T08:19:09.062231",
     "status": "completed"
    },
    "tags": []
   },
   "outputs": [],
   "source": [
    "tsla_stock.dropna(inplace=True)"
   ]
  },
  {
   "cell_type": "markdown",
   "id": "4aa21dd4",
   "metadata": {
    "papermill": {
     "duration": 0.017361,
     "end_time": "2024-03-20T08:19:09.126937",
     "exception": false,
     "start_time": "2024-03-20T08:19:09.109576",
     "status": "completed"
    },
    "tags": []
   },
   "source": [
    "### Run OLS Regression"
   ]
  },
  {
   "cell_type": "markdown",
   "id": "9fe8af93",
   "metadata": {
    "papermill": {
     "duration": 0.016801,
     "end_time": "2024-03-20T08:19:09.161339",
     "exception": false,
     "start_time": "2024-03-20T08:19:09.144538",
     "status": "completed"
    },
    "tags": []
   },
   "source": [
    "#### Merge datasets for regression analysis"
   ]
  },
  {
   "cell_type": "code",
   "execution_count": 16,
   "id": "bcb0bc98",
   "metadata": {
    "execution": {
     "iopub.execute_input": "2024-03-20T08:19:09.198120Z",
     "iopub.status.busy": "2024-03-20T08:19:09.197390Z",
     "iopub.status.idle": "2024-03-20T08:19:09.209487Z",
     "shell.execute_reply": "2024-03-20T08:19:09.208637Z"
    },
    "papermill": {
     "duration": 0.033122,
     "end_time": "2024-03-20T08:19:09.211772",
     "exception": false,
     "start_time": "2024-03-20T08:19:09.178650",
     "status": "completed"
    },
    "tags": []
   },
   "outputs": [],
   "source": [
    "merged_data = pd.merge(tsla_stock, tbill_yields, left_index=True, right_index=True, how='inner')"
   ]
  },
  {
   "cell_type": "markdown",
   "id": "5bfd8427",
   "metadata": {
    "papermill": {
     "duration": 0.016952,
     "end_time": "2024-03-20T08:19:09.245757",
     "exception": false,
     "start_time": "2024-03-20T08:19:09.228805",
     "status": "completed"
    },
    "tags": []
   },
   "source": [
    "#### Define independent and dependent variables"
   ]
  },
  {
   "cell_type": "code",
   "execution_count": 17,
   "id": "f0d19f65",
   "metadata": {
    "execution": {
     "iopub.execute_input": "2024-03-20T08:19:09.282813Z",
     "iopub.status.busy": "2024-03-20T08:19:09.282045Z",
     "iopub.status.idle": "2024-03-20T08:19:09.290160Z",
     "shell.execute_reply": "2024-03-20T08:19:09.289003Z"
    },
    "papermill": {
     "duration": 0.028904,
     "end_time": "2024-03-20T08:19:09.292370",
     "exception": false,
     "start_time": "2024-03-20T08:19:09.263466",
     "status": "completed"
    },
    "tags": []
   },
   "outputs": [],
   "source": [
    "X = sm.add_constant(merged_data[['DGS3MO']])\n",
    "y = merged_data['Returns']"
   ]
  },
  {
   "cell_type": "markdown",
   "id": "6b2ea319",
   "metadata": {
    "papermill": {
     "duration": 0.016654,
     "end_time": "2024-03-20T08:19:09.326460",
     "exception": false,
     "start_time": "2024-03-20T08:19:09.309806",
     "status": "completed"
    },
    "tags": []
   },
   "source": [
    "\n",
    "#### Run OLS regression"
   ]
  },
  {
   "cell_type": "code",
   "execution_count": 18,
   "id": "438d69ff",
   "metadata": {
    "execution": {
     "iopub.execute_input": "2024-03-20T08:19:09.362535Z",
     "iopub.status.busy": "2024-03-20T08:19:09.362162Z",
     "iopub.status.idle": "2024-03-20T08:19:09.380535Z",
     "shell.execute_reply": "2024-03-20T08:19:09.379725Z"
    },
    "papermill": {
     "duration": 0.039208,
     "end_time": "2024-03-20T08:19:09.382907",
     "exception": false,
     "start_time": "2024-03-20T08:19:09.343699",
     "status": "completed"
    },
    "tags": []
   },
   "outputs": [],
   "source": [
    "model = sm.OLS(y, X)\n",
    "results = model.fit()"
   ]
  },
  {
   "cell_type": "markdown",
   "id": "0d3e154b",
   "metadata": {
    "papermill": {
     "duration": 0.016891,
     "end_time": "2024-03-20T08:19:09.416688",
     "exception": false,
     "start_time": "2024-03-20T08:19:09.399797",
     "status": "completed"
    },
    "tags": []
   },
   "source": [
    "#### Print summary of regression results"
   ]
  },
  {
   "cell_type": "code",
   "execution_count": 19,
   "id": "46a881f1",
   "metadata": {
    "execution": {
     "iopub.execute_input": "2024-03-20T08:19:09.455011Z",
     "iopub.status.busy": "2024-03-20T08:19:09.454027Z",
     "iopub.status.idle": "2024-03-20T08:19:09.473586Z",
     "shell.execute_reply": "2024-03-20T08:19:09.472071Z"
    },
    "papermill": {
     "duration": 0.040666,
     "end_time": "2024-03-20T08:19:09.475996",
     "exception": false,
     "start_time": "2024-03-20T08:19:09.435330",
     "status": "completed"
    },
    "tags": []
   },
   "outputs": [
    {
     "name": "stdout",
     "output_type": "stream",
     "text": [
      "                            OLS Regression Results                            \n",
      "==============================================================================\n",
      "Dep. Variable:                Returns   R-squared:                       0.000\n",
      "Model:                            OLS   Adj. R-squared:                 -0.001\n",
      "Method:                 Least Squares   F-statistic:                    0.1719\n",
      "Date:                Wed, 20 Mar 2024   Prob (F-statistic):              0.679\n",
      "Time:                        08:19:09   Log-Likelihood:                 1161.0\n",
      "No. Observations:                 690   AIC:                            -2318.\n",
      "Df Residuals:                     688   BIC:                            -2309.\n",
      "Df Model:                           1                                         \n",
      "Covariance Type:            nonrobust                                         \n",
      "==============================================================================\n",
      "                 coef    std err          t      P>|t|      [0.025      0.975]\n",
      "------------------------------------------------------------------------------\n",
      "const          0.0223      0.051      0.435      0.664      -0.078       0.123\n",
      "DGS3MO        -0.0039      0.009     -0.415      0.679      -0.022       0.015\n",
      "==============================================================================\n",
      "Omnibus:                      978.367   Durbin-Watson:                   1.001\n",
      "Prob(Omnibus):                  0.000   Jarque-Bera (JB):           313990.720\n",
      "Skew:                           7.478   Prob(JB):                         0.00\n",
      "Kurtosis:                     106.430   Cond. No.                         168.\n",
      "==============================================================================\n",
      "\n",
      "Notes:\n",
      "[1] Standard Errors assume that the covariance matrix of the errors is correctly specified.\n"
     ]
    }
   ],
   "source": [
    "print(results.summary())"
   ]
  },
  {
   "cell_type": "markdown",
   "id": "79d1dcbf",
   "metadata": {
    "papermill": {
     "duration": 0.017084,
     "end_time": "2024-03-20T08:19:09.510993",
     "exception": false,
     "start_time": "2024-03-20T08:19:09.493909",
     "status": "completed"
    },
    "tags": []
   },
   "source": [
    "### Analysis"
   ]
  },
  {
   "cell_type": "markdown",
   "id": "bd06db7e",
   "metadata": {
    "papermill": {
     "duration": 0.017239,
     "end_time": "2024-03-20T08:19:09.545544",
     "exception": false,
     "start_time": "2024-03-20T08:19:09.528305",
     "status": "completed"
    },
    "tags": []
   },
   "source": [
    "#### Check for violations of OLS assumptions"
   ]
  },
  {
   "cell_type": "markdown",
   "id": "16238297",
   "metadata": {
    "papermill": {
     "duration": 0.017119,
     "end_time": "2024-03-20T08:19:09.579906",
     "exception": false,
     "start_time": "2024-03-20T08:19:09.562787",
     "status": "completed"
    },
    "tags": []
   },
   "source": [
    "#### Linearity: Scatterplots of independent variables against dependent variable"
   ]
  },
  {
   "cell_type": "code",
   "execution_count": 20,
   "id": "f6cb4fd2",
   "metadata": {
    "execution": {
     "iopub.execute_input": "2024-03-20T08:19:09.617823Z",
     "iopub.status.busy": "2024-03-20T08:19:09.617174Z",
     "iopub.status.idle": "2024-03-20T08:19:10.231360Z",
     "shell.execute_reply": "2024-03-20T08:19:10.230162Z"
    },
    "papermill": {
     "duration": 0.636756,
     "end_time": "2024-03-20T08:19:10.233952",
     "exception": false,
     "start_time": "2024-03-20T08:19:09.597196",
     "status": "completed"
    },
    "tags": []
   },
   "outputs": [
    {
     "data": {
      "image/png": "[encoded data removed]",
      "text/plain": [
       "<Figure size 640x480 with 1 Axes>"
      ]
     },
     "metadata": {},
     "output_type": "display_data"
    },
    {
     "data": {
      "image/png": "[encoded data removed]",
      "text/plain": [
       "<Figure size 640x480 with 1 Axes>"
      ]
     },
     "metadata": {},
     "output_type": "display_data"
    }
   ],
   "source": [
    "import statsmodels.api as sm\n",
    "import matplotlib.pyplot as plt\n",
    "import pandas as pd\n",
    "\n",
    "for col in X.columns:\n",
    "    plt.scatter(X[col], results.resid)\n",
    "    plt.xlabel(col)\n",
    "    plt.ylabel(\"Residuals\")\n",
    "    plt.title(f\"Scatterplot of {col} vs Residuals\")\n",
    "    plt.show()"
   ]
  },
  {
   "cell_type": "markdown",
   "id": "743e1b27",
   "metadata": {
    "papermill": {
     "duration": 0.018377,
     "end_time": "2024-03-20T08:19:10.271062",
     "exception": false,
     "start_time": "2024-03-20T08:19:10.252685",
     "status": "completed"
    },
    "tags": []
   },
   "source": [
    "#### Independence of Errors: Residuals vs Fitted values and Durbin-Watson test"
   ]
  },
  {
   "cell_type": "code",
   "execution_count": 21,
   "id": "72a192ec",
   "metadata": {
    "execution": {
     "iopub.execute_input": "2024-03-20T08:19:10.310033Z",
     "iopub.status.busy": "2024-03-20T08:19:10.309645Z",
     "iopub.status.idle": "2024-03-20T08:19:10.621404Z",
     "shell.execute_reply": "2024-03-20T08:19:10.620077Z"
    },
    "papermill": {
     "duration": 0.334423,
     "end_time": "2024-03-20T08:19:10.624025",
     "exception": false,
     "start_time": "2024-03-20T08:19:10.289602",
     "status": "completed"
    },
    "tags": []
   },
   "outputs": [
    {
     "data": {
      "image/png": "[encoded data removed]",
      "text/plain": [
       "<Figure size 640x480 with 1 Axes>"
      ]
     },
     "metadata": {},
     "output_type": "display_data"
    }
   ],
   "source": [
    "plt.scatter(results.fittedvalues, results.resid)\n",
    "plt.xlabel(\"Fitted Values\")\n",
    "plt.ylabel(\"Residuals\")\n",
    "plt.title(\"Residuals vs Fitted Values\")\n",
    "plt.show()"
   ]
  },
  {
   "cell_type": "markdown",
   "id": "4d6290ca",
   "metadata": {
    "papermill": {
     "duration": 0.018753,
     "end_time": "2024-03-20T08:19:10.662275",
     "exception": false,
     "start_time": "2024-03-20T08:19:10.643522",
     "status": "completed"
    },
    "tags": []
   },
   "source": [
    "#### Homoscedasticity: Residuals vs Fitted values and Breusch-Pagan test"
   ]
  },
  {
   "cell_type": "code",
   "execution_count": 22,
   "id": "eefd6bad",
   "metadata": {
    "execution": {
     "iopub.execute_input": "2024-03-20T08:19:10.702618Z",
     "iopub.status.busy": "2024-03-20T08:19:10.701600Z",
     "iopub.status.idle": "2024-03-20T08:19:10.711482Z",
     "shell.execute_reply": "2024-03-20T08:19:10.710591Z"
    },
    "papermill": {
     "duration": 0.032506,
     "end_time": "2024-03-20T08:19:10.713725",
     "exception": false,
     "start_time": "2024-03-20T08:19:10.681219",
     "status": "completed"
    },
    "tags": []
   },
   "outputs": [
    {
     "name": "stdout",
     "output_type": "stream",
     "text": [
      "Breusch-Pagan test p-value: 0.3626575473336514\n"
     ]
    }
   ],
   "source": [
    "_, p_het, _, _ = sm.stats.diagnostic.het_breuschpagan(results.resid, results.model.exog)\n",
    "print(\"Breusch-Pagan test p-value:\", p_het)"
   ]
  },
  {
   "cell_type": "markdown",
   "id": "37c11d47",
   "metadata": {
    "papermill": {
     "duration": 0.018972,
     "end_time": "2024-03-20T08:19:10.751808",
     "exception": false,
     "start_time": "2024-03-20T08:19:10.732836",
     "status": "completed"
    },
    "tags": []
   },
   "source": [
    "#### Normality of Errors: Histogram and Q-Q plot of residuals, and statistical tests"
   ]
  },
  {
   "cell_type": "code",
   "execution_count": 23,
   "id": "92f32c42",
   "metadata": {
    "execution": {
     "iopub.execute_input": "2024-03-20T08:19:10.792043Z",
     "iopub.status.busy": "2024-03-20T08:19:10.791386Z",
     "iopub.status.idle": "2024-03-20T08:19:11.399014Z",
     "shell.execute_reply": "2024-03-20T08:19:11.397624Z"
    },
    "papermill": {
     "duration": 0.630475,
     "end_time": "2024-03-20T08:19:11.401351",
     "exception": false,
     "start_time": "2024-03-20T08:19:10.770876",
     "status": "completed"
    },
    "tags": []
   },
   "outputs": [
    {
     "data": {
      "image/png": "[encoded data removed]",
      "text/plain": [
       "<Figure size 640x480 with 1 Axes>"
      ]
     },
     "metadata": {},
     "output_type": "display_data"
    },
    {
     "data": {
      "image/png": "[encoded data removed]",
      "text/plain": [
       "<Figure size 640x480 with 1 Axes>"
      ]
     },
     "metadata": {},
     "output_type": "display_data"
    },
    {
     "name": "stdout",
     "output_type": "stream",
     "text": [
      "Jarque-Bera test p-value: 0.0\n",
      "Skewness of residuals: 7.478253577402254\n",
      "Kurtosis of residuals: 106.42977928641535\n"
     ]
    }
   ],
   "source": [
    "plt.hist(results.resid, bins=20)\n",
    "plt.title(\"Histogram of Residuals\")\n",
    "plt.show()\n",
    "\n",
    "sm.qqplot(results.resid, line='45')\n",
    "plt.title(\"Q-Q Plot of Residuals\")\n",
    "plt.show()\n",
    "\n",
    "jb, p_jb, skew, kurtosis = sm.stats.stattools.jarque_bera(results.resid)\n",
    "print(\"Jarque-Bera test p-value:\", p_jb)\n",
    "print(\"Skewness of residuals:\", skew)\n",
    "print(\"Kurtosis of residuals:\", kurtosis)"
   ]
  },
  {
   "cell_type": "markdown",
   "id": "131808f0",
   "metadata": {
    "papermill": {
     "duration": 0.02026,
     "end_time": "2024-03-20T08:19:11.441812",
     "exception": false,
     "start_time": "2024-03-20T08:19:11.421552",
     "status": "completed"
    },
    "tags": []
   },
   "source": [
    "#### Multicollinearity: VIF calculation"
   ]
  },
  {
   "cell_type": "code",
   "execution_count": 24,
   "id": "6c55e47f",
   "metadata": {
    "execution": {
     "iopub.execute_input": "2024-03-20T08:19:11.484154Z",
     "iopub.status.busy": "2024-03-20T08:19:11.483780Z",
     "iopub.status.idle": "2024-03-20T08:19:11.507976Z",
     "shell.execute_reply": "2024-03-20T08:19:11.506433Z"
    },
    "papermill": {
     "duration": 0.048499,
     "end_time": "2024-03-20T08:19:11.510687",
     "exception": false,
     "start_time": "2024-03-20T08:19:11.462188",
     "status": "completed"
    },
    "tags": []
   },
   "outputs": [
    {
     "name": "stdout",
     "output_type": "stream",
     "text": [
      "Variance Inflation Factors:\n",
      "  Variable         VIF\n",
      "0    const  889.494131\n",
      "1   DGS3MO    1.000000\n"
     ]
    }
   ],
   "source": [
    "from statsmodels.stats.outliers_influence import variance_inflation_factor\n",
    "vif = pd.DataFrame()\n",
    "vif[\"Variable\"] = X.columns\n",
    "vif[\"VIF\"] = [variance_inflation_factor(X.values, i) for i in range(X.shape[1])]\n",
    "print(\"Variance Inflation Factors:\")\n",
    "print(vif)"
   ]
  },
  {
   "cell_type": "code",
   "execution_count": null,
   "id": "1c919fff",
   "metadata": {
    "papermill": {
     "duration": 0.019831,
     "end_time": "2024-03-20T08:19:11.550922",
     "exception": false,
     "start_time": "2024-03-20T08:19:11.531091",
     "status": "completed"
    },
    "tags": []
   },
   "outputs": [],
   "source": []
  }
 ],
 "metadata": {
  "kaggle": {
   "accelerator": "none",
   "dataSources": [
    {
     "datasetId": 4633694,
     "sourceId": 7892170,
     "sourceType": "datasetVersion"
    }
   ],
   "dockerImageVersionId": 30664,
   "isGpuEnabled": false,
   "isInternetEnabled": true,
   "language": "python",
   "sourceType": "notebook"
  },
  "kernelspec": {
   "display_name": "Python 3",
   "language": "python",
   "name": "python3"
  },
  "language_info": {
   "codemirror_mode": {
    "name": "ipython",
    "version": 3
   },
   "file_extension": ".py",
   "mimetype": "text/x-python",
   "name": "python",
   "nbconvert_exporter": "python",
   "pygments_lexer": "ipython3",
   "version": "3.10.13"
  },
  "papermill": {
   "default_parameters": {},
   "duration": 54.34471,
   "end_time": "2024-03-20T08:19:12.293444",
   "environment_variables": {},
   "exception": null,
   "input_path": "__notebook__.ipynb",
   "output_path": "__notebook__.ipynb",
   "parameters": {},
   "start_time": "2024-03-20T08:18:17.948734",
   "version": "2.5.0"
  }
 },
 "nbformat": 4,
 "nbformat_minor": 5
}
